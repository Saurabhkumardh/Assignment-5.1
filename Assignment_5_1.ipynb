{
  "nbformat": 4,
  "nbformat_minor": 0,
  "metadata": {
    "colab": {
      "provenance": []
    },
    "kernelspec": {
      "name": "python3",
      "display_name": "Python 3"
    },
    "language_info": {
      "name": "python"
    }
  },
  "cells": [
    {
      "cell_type": "markdown",
      "source": [
        "Question 1"
      ],
      "metadata": {
        "id": "xW88MFkLF7Dr"
      }
    },
    {
      "cell_type": "markdown",
      "source": [
        "The difference between Exceptions and Syntax\n",
        "\n",
        "1.Exceptions: Exceptions occur during the execution of a program\n",
        "\n",
        "2.Syntax Errors: Syntax Errors occur during the parsing of code, before the program is executed.\n",
        "\n",
        "\n"
      ],
      "metadata": {
        "id": "irwIXZZVGrrH"
      }
    },
    {
      "cell_type": "markdown",
      "source": [
        "Question 2\n"
      ],
      "metadata": {
        "id": "DtCnEqcbF-mu"
      }
    },
    {
      "cell_type": "markdown",
      "source": [
        "When an exception is not handled in a Python program, it propagates up the call stack until it either encounters a handler or reaches the top level of the program."
      ],
      "metadata": {
        "id": "OOf3AM3PHlIG"
      }
    },
    {
      "cell_type": "code",
      "source": [
        "def divide(x, y):\n",
        "    return x / y\n",
        "\n",
        "try:\n",
        "    result = divide(10, 0)\n",
        "    print(\"Result:\", result)\n",
        "except ValueError as e:\n",
        "    print(\"Caught ValueError:\", e)\n"
      ],
      "metadata": {
        "id": "yt7nZeZFGBmv"
      },
      "execution_count": null,
      "outputs": []
    },
    {
      "cell_type": "markdown",
      "source": [
        "Question 3"
      ],
      "metadata": {
        "id": "hzlx7KQLGCXH"
      }
    },
    {
      "cell_type": "code",
      "source": [
        "try:\n",
        "\n",
        "    x = int(input(\"Enter a number: \"))\n",
        "    y = int(input(\"Enter another number: \"))\n",
        "    result = x / y\n",
        "except ZeroDivisionError:\n",
        "\n",
        "    print(\"Error: Cannot divide by zero\")\n",
        "else:\n",
        "\n",
        "    print(\"Result:\", result)\n",
        "finally:\n",
        "\n",
        "    print(\"End of program\")\n",
        "\n",
        "\n"
      ],
      "metadata": {
        "id": "eNmWUepiGEQ2"
      },
      "execution_count": null,
      "outputs": []
    },
    {
      "cell_type": "markdown",
      "source": [
        "Question 4\n"
      ],
      "metadata": {
        "id": "F4fBGlnCGE9H"
      }
    },
    {
      "cell_type": "code",
      "source": [
        "try:\n",
        "    # Code block where an exception might occur\n",
        "    num1 = int(input(\"Enter the first number: \"))\n",
        "    num2 = int(input(\"Enter the second number: \"))\n",
        "    result = num1 / num2\n",
        "except ZeroDivisionError:\n",
        "    # Handle the specific exception (division by zero)\n",
        "    print(\"Error: Cannot divide by zero\")\n",
        "else:\n",
        "    # Code to be executed if no exception occurs\n",
        "    print(\"Result:\", result)\n",
        "finally:\n",
        "    # Code to be executed regardless of whether an exception occurs or not\n",
        "    print(\"End of program\")\n"
      ],
      "metadata": {
        "id": "QVq3P3qiGJq-"
      },
      "execution_count": null,
      "outputs": []
    },
    {
      "cell_type": "markdown",
      "source": [
        "Question 5"
      ],
      "metadata": {
        "id": "BzX80wPqGKZs"
      }
    },
    {
      "cell_type": "code",
      "source": [
        "class InsufficientFundsError(Exception):\n",
        "    \"\"\"Exception raised when there are insufficient funds in an account.\"\"\"\n",
        "    def __init__(self, balance, amount):\n",
        "        self.balance = balance\n",
        "        self.amount = amount\n",
        "        super().__init__(f\"Insufficient funds: balance is {balance}, but {amount} is required.\")\n",
        "\n",
        "class BankAccount:\n",
        "    def __init__(self, balance):\n",
        "        self.balance = balance\n",
        "\n",
        "    def withdraw(self, amount):\n",
        "        if self.balance < amount:\n",
        "            raise InsufficientFundsError(self.balance, amount)\n",
        "        self.balance -= amount\n",
        "        return self.balance\n",
        "\n",
        "# Example usage\n",
        "account_balance = 100\n",
        "account = BankAccount(account_balance)\n",
        "\n",
        "try:\n",
        "    withdrawal_amount = 150\n",
        "    new_balance = account.withdraw(withdrawal_amount)\n",
        "    print(f\"Withdrawal successful. New balance: {new_balance}\")\n",
        "except InsufficientFundsError as e:\n",
        "    print(e)\n"
      ],
      "metadata": {
        "id": "qfIqOfz8GMVx"
      },
      "execution_count": null,
      "outputs": []
    },
    {
      "cell_type": "markdown",
      "source": [
        "Question 6"
      ],
      "metadata": {
        "id": "vMvqgpVFGMn6"
      }
    },
    {
      "cell_type": "code",
      "source": [
        "class InvalidInputError(Exception):\n",
        "    \"\"\"Exception raised when the input provided is invalid.\"\"\"\n",
        "    def __init__(self, input_value, reason):\n",
        "        self.input_value = input_value\n",
        "        self.reason = reason\n",
        "        super().__init__(f\"Invalid input '{input_value}': {reason}\")\n",
        "\n",
        "def divide_numbers(a, b):\n",
        "    if b == 0:\n",
        "        raise InvalidInputError(b, \"division by zero\")\n",
        "    return a / b\n",
        "\n",
        "# Example usage\n",
        "try:\n",
        "    result = divide_numbers(10, 0)\n",
        "    print(\"Result:\", result)\n",
        "except InvalidInputError as e:\n",
        "    print(\"Error:\", e)\n"
      ],
      "metadata": {
        "id": "q0HE93FAJMrT"
      },
      "execution_count": null,
      "outputs": []
    }
  ]
}